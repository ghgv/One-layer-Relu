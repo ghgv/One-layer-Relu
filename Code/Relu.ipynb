{
 "cells": [
  {
   "cell_type": "code",
   "execution_count": 1,
   "id": "47b7d134",
   "metadata": {},
   "outputs": [],
   "source": [
    "import numpy as np\n",
    "from matplotlib import pyplot as plt\n",
    "import math \n",
    "import random\n",
    "import torch\n",
    "import torchvision\n",
    "import torch.nn as nn\n",
    "import numpy as np\n",
    "torch.backends.cudnn.enabled = True\n",
    "import torch\n",
    "import torchvision\n",
    "import torch.nn as nn\n",
    "import numpy as np\n",
    "import seaborn as sns"
   ]
  },
  {
   "cell_type": "code",
   "execution_count": 2,
   "id": "62ac3b6c",
   "metadata": {},
   "outputs": [],
   "source": [
    "import sys\n",
    "import torch\n",
    "import torch.utils\n",
    "import torch.nn as nn\n",
    "from torch.autograd import Variable\n",
    "from torchvision import models\n",
    "\n",
    "try:\n",
    "    import gpustat\n",
    "except ImportError:\n",
    "    raise ImportError(\"pip install gpustat\")\n",
    "\n",
    "\n",
    "def show_memusage(device=0):\n",
    "    gpu_stats = gpustat.GPUStatCollection.new_query()\n",
    "    item = gpu_stats.jsonify()[\"gpus\"][device]\n",
    "    print(\"{}/{}\".format(item[\"memory.used\"], item[\"memory.total\"]))"
   ]
  },
  {
   "cell_type": "code",
   "execution_count": 3,
   "id": "fd07bc3a",
   "metadata": {},
   "outputs": [
    {
     "name": "stdout",
     "output_type": "stream",
     "text": [
      "309/4038\n"
     ]
    }
   ],
   "source": [
    "show_memusage()\n",
    "torch.cuda.empty_cache()\n"
   ]
  },
  {
   "cell_type": "code",
   "execution_count": 4,
   "id": "e76b7dd7",
   "metadata": {},
   "outputs": [],
   "source": [
    "N=100\n",
    "epsilon=1/N\n",
    "acc0=0"
   ]
  },
  {
   "cell_type": "code",
   "execution_count": 5,
   "id": "563baf81",
   "metadata": {},
   "outputs": [],
   "source": [
    "a=[]\n",
    "F=[]\n",
    "acc=0.0\n",
    "\n",
    "for k in range(N):\n",
    "    F.append((100)*math.sin(4*3.1416*k/N))\n",
    "    #F.append(0.03*k*k/N)\n",
    "    #.append(random.randint(0, 100))\n",
    "beta=F[0]"
   ]
  },
  {
   "cell_type": "code",
   "execution_count": 6,
   "id": "ad8fa6c9",
   "metadata": {},
   "outputs": [],
   "source": [
    "torch.manual_seed(298630698)\n",
    "dtype = torch.float32"
   ]
  },
  {
   "cell_type": "code",
   "execution_count": 7,
   "id": "6583ebd2",
   "metadata": {},
   "outputs": [],
   "source": [
    "X = torch.zeros((N,1,1),requires_grad=False,dtype=torch.float32)\n",
    "Y = torch.zeros((N,1,1),requires_grad=False,dtype=torch.float32)\n",
    "#Z = torch.zeros((N,1,1),requires_grad=False,dtype=torch.float32)\n",
    "#h = torch.zeros((N,1,1),requires_grad=False,dtype=torch.float32)\n",
    "#L = torch.zeros((N,1,1),requires_grad=False,dtype=torch.float32)\n",
    "#loss = torch.zeros((N,1,1),requires_grad=False,dtype=torch.float32)\n",
    "W = torch.randn((1,N),requires_grad=True,dtype=torch.float32)\n",
    "W1 = torch.randn((N,N,N),requires_grad=True,dtype=torch.float32)\n",
    "b = torch.randn((N,),requires_grad=True,dtype=torch.float32)\n",
    "b1 = torch.randn((N,),requires_grad=True,dtype=torch.float32)\n",
    "a = torch.randn((N,),requires_grad=True,dtype=torch.float32)\n",
    "m = nn.ReLU()\n",
    "Loss=[]"
   ]
  },
  {
   "cell_type": "code",
   "execution_count": 8,
   "id": "d1848cda",
   "metadata": {},
   "outputs": [],
   "source": [
    "for k in range(N):\n",
    "    #F.append((100)*math.sin(4*3.1416*k/N))\n",
    "    #X[k,0,0]= 0.03*k*k/N\n",
    "    Y[k,0,0]= (0.3)*math.sin(4*3.1416*k/N)\n",
    "    X[k,0,0]= k/N\n",
    "    #.append(random.randint(0, 100))\n"
   ]
  },
  {
   "cell_type": "code",
   "execution_count": null,
   "id": "a323aaa8",
   "metadata": {},
   "outputs": [],
   "source": []
  },
  {
   "cell_type": "code",
   "execution_count": 9,
   "id": "9375fadf",
   "metadata": {},
   "outputs": [
    {
     "name": "stdout",
     "output_type": "stream",
     "text": [
      "Tensor device: cuda:0\n",
      "Tensor device: cuda:0\n",
      "Tensor device: cuda:0\n",
      "Tensor device: cuda:0\n"
     ]
    }
   ],
   "source": [
    "X=X.to(\"cuda:0\")\n",
    "Y=Y.to(\"cuda:0\")\n",
    "#Z=Z.to(\"cuda:0\")\n",
    "#h=h.to(\"cuda:0\")\n",
    "W=W.to(\"cuda:0\")\n",
    "W1=W1.to(\"cuda:0\")\n",
    "#loss = loss.to(\"cuda:0\")\n",
    "b=b.to(\"cuda:0\")\n",
    "b1=b1.to(\"cuda:0\")\n",
    "a=a.to(\"cuda:0\")\n",
    "m = nn.ReLU().to('cuda')\n",
    "print(\"Tensor device:\", X.device)\n",
    "print(\"Tensor device:\", W.device)\n",
    "print(\"Tensor device:\", b.device)\n",
    "print(\"Tensor device:\", a.device)"
   ]
  },
  {
   "cell_type": "code",
   "execution_count": 10,
   "id": "310147cc",
   "metadata": {},
   "outputs": [
    {
     "name": "stdout",
     "output_type": "stream",
     "text": [
      "CUDA GPU: True\n"
     ]
    }
   ],
   "source": [
    "print(\"CUDA GPU:\", torch.cuda.is_available())"
   ]
  },
  {
   "cell_type": "code",
   "execution_count": 11,
   "id": "c61ddec6",
   "metadata": {
    "scrolled": true
   },
   "outputs": [
    {
     "data": {
      "text/plain": [
       "[<matplotlib.lines.Line2D at 0x7fdfd6c15970>]"
      ]
     },
     "execution_count": 11,
     "metadata": {},
     "output_type": "execute_result"
    },
    {
     "data": {
      "image/png": "[encoded data removed]",
      "text/plain": [
       "<Figure size 432x288 with 1 Axes>"
      ]
     },
     "metadata": {
      "needs_background": "light"
     },
     "output_type": "display_data"
    }
   ],
   "source": [
    "\n",
    "plt.plot(Y[:,0,0].cpu())"
   ]
  },
  {
   "cell_type": "code",
   "execution_count": 12,
   "id": "bcd89d6f",
   "metadata": {},
   "outputs": [
    {
     "data": {
      "text/plain": [
       "[<matplotlib.lines.Line2D at 0x7fdfd6540fd0>]"
      ]
     },
     "execution_count": 12,
     "metadata": {},
     "output_type": "execute_result"
    },
    {
     "data": {
      "image/png": "[encoded data removed]",
      "text/plain": [
       "<Figure size 432x288 with 1 Axes>"
      ]
     },
     "metadata": {
      "needs_background": "light"
     },
     "output_type": "display_data"
    }
   ],
   "source": [
    "plt.plot(X[:,0,0].cpu())"
   ]
  },
  {
   "cell_type": "code",
   "execution_count": 13,
   "id": "d252e39e",
   "metadata": {},
   "outputs": [
    {
     "ename": "TypeError",
     "evalue": "can't convert cuda:0 device type tensor to numpy. Use Tensor.cpu() to copy the tensor to host memory first.",
     "output_type": "error",
     "traceback": [
      "\u001b[0;31m---------------------------------------------------------------------------\u001b[0m",
      "\u001b[0;31mTypeError\u001b[0m                                 Traceback (most recent call last)",
      "Input \u001b[0;32mIn [13]\u001b[0m, in \u001b[0;36m<module>\u001b[0;34m\u001b[0m\n\u001b[0;32m----> 1\u001b[0m \u001b[43mplt\u001b[49m\u001b[38;5;241;43m.\u001b[39;49m\u001b[43mplot\u001b[49m\u001b[43m(\u001b[49m\u001b[43ma\u001b[49m\u001b[43m)\u001b[49m\n",
      "File \u001b[0;32m~/Escritorio/ambiente/cnn/lib/python3.8/site-packages/matplotlib/pyplot.py:2794\u001b[0m, in \u001b[0;36mplot\u001b[0;34m(scalex, scaley, data, *args, **kwargs)\u001b[0m\n\u001b[1;32m   2792\u001b[0m \u001b[38;5;129m@docstring\u001b[39m\u001b[38;5;241m.\u001b[39mcopy(Axes\u001b[38;5;241m.\u001b[39mplot)\n\u001b[1;32m   2793\u001b[0m \u001b[38;5;28;01mdef\u001b[39;00m \u001b[38;5;21mplot\u001b[39m(\u001b[38;5;241m*\u001b[39margs, scalex\u001b[38;5;241m=\u001b[39m\u001b[38;5;28;01mTrue\u001b[39;00m, scaley\u001b[38;5;241m=\u001b[39m\u001b[38;5;28;01mTrue\u001b[39;00m, data\u001b[38;5;241m=\u001b[39m\u001b[38;5;28;01mNone\u001b[39;00m, \u001b[38;5;241m*\u001b[39m\u001b[38;5;241m*\u001b[39mkwargs):\n\u001b[0;32m-> 2794\u001b[0m     \u001b[38;5;28;01mreturn\u001b[39;00m \u001b[43mgca\u001b[49m\u001b[43m(\u001b[49m\u001b[43m)\u001b[49m\u001b[38;5;241;43m.\u001b[39;49m\u001b[43mplot\u001b[49m\u001b[43m(\u001b[49m\n\u001b[1;32m   2795\u001b[0m \u001b[43m        \u001b[49m\u001b[38;5;241;43m*\u001b[39;49m\u001b[43margs\u001b[49m\u001b[43m,\u001b[49m\u001b[43m \u001b[49m\u001b[43mscalex\u001b[49m\u001b[38;5;241;43m=\u001b[39;49m\u001b[43mscalex\u001b[49m\u001b[43m,\u001b[49m\u001b[43m \u001b[49m\u001b[43mscaley\u001b[49m\u001b[38;5;241;43m=\u001b[39;49m\u001b[43mscaley\u001b[49m\u001b[43m,\u001b[49m\u001b[43m \u001b[49m\u001b[38;5;241;43m*\u001b[39;49m\u001b[38;5;241;43m*\u001b[39;49m\u001b[43m(\u001b[49m\u001b[43m{\u001b[49m\u001b[38;5;124;43m\"\u001b[39;49m\u001b[38;5;124;43mdata\u001b[39;49m\u001b[38;5;124;43m\"\u001b[39;49m\u001b[43m:\u001b[49m\u001b[43m \u001b[49m\u001b[43mdata\u001b[49m\u001b[43m}\u001b[49m\u001b[43m \u001b[49m\u001b[38;5;28;43;01mif\u001b[39;49;00m\u001b[43m \u001b[49m\u001b[43mdata\u001b[49m\n\u001b[1;32m   2796\u001b[0m \u001b[43m        \u001b[49m\u001b[38;5;129;43;01mis\u001b[39;49;00m\u001b[43m \u001b[49m\u001b[38;5;129;43;01mnot\u001b[39;49;00m\u001b[43m \u001b[49m\u001b[38;5;28;43;01mNone\u001b[39;49;00m\u001b[43m \u001b[49m\u001b[38;5;28;43;01melse\u001b[39;49;00m\u001b[43m \u001b[49m\u001b[43m{\u001b[49m\u001b[43m}\u001b[49m\u001b[43m)\u001b[49m\u001b[43m,\u001b[49m\u001b[43m \u001b[49m\u001b[38;5;241;43m*\u001b[39;49m\u001b[38;5;241;43m*\u001b[39;49m\u001b[43mkwargs\u001b[49m\u001b[43m)\u001b[49m\n",
      "File \u001b[0;32m~/Escritorio/ambiente/cnn/lib/python3.8/site-packages/matplotlib/axes/_axes.py:1667\u001b[0m, in \u001b[0;36mAxes.plot\u001b[0;34m(self, scalex, scaley, data, *args, **kwargs)\u001b[0m\n\u001b[1;32m   1665\u001b[0m lines \u001b[38;5;241m=\u001b[39m [\u001b[38;5;241m*\u001b[39m\u001b[38;5;28mself\u001b[39m\u001b[38;5;241m.\u001b[39m_get_lines(\u001b[38;5;241m*\u001b[39margs, data\u001b[38;5;241m=\u001b[39mdata, \u001b[38;5;241m*\u001b[39m\u001b[38;5;241m*\u001b[39mkwargs)]\n\u001b[1;32m   1666\u001b[0m \u001b[38;5;28;01mfor\u001b[39;00m line \u001b[38;5;129;01min\u001b[39;00m lines:\n\u001b[0;32m-> 1667\u001b[0m     \u001b[38;5;28;43mself\u001b[39;49m\u001b[38;5;241;43m.\u001b[39;49m\u001b[43madd_line\u001b[49m\u001b[43m(\u001b[49m\u001b[43mline\u001b[49m\u001b[43m)\u001b[49m\n\u001b[1;32m   1668\u001b[0m \u001b[38;5;28mself\u001b[39m\u001b[38;5;241m.\u001b[39mautoscale_view(scalex\u001b[38;5;241m=\u001b[39mscalex, scaley\u001b[38;5;241m=\u001b[39mscaley)\n\u001b[1;32m   1669\u001b[0m \u001b[38;5;28;01mreturn\u001b[39;00m lines\n",
      "File \u001b[0;32m~/Escritorio/ambiente/cnn/lib/python3.8/site-packages/matplotlib/axes/_base.py:1902\u001b[0m, in \u001b[0;36m_AxesBase.add_line\u001b[0;34m(self, line)\u001b[0m\n\u001b[1;32m   1899\u001b[0m \u001b[38;5;28;01mif\u001b[39;00m line\u001b[38;5;241m.\u001b[39mget_clip_path() \u001b[38;5;129;01mis\u001b[39;00m \u001b[38;5;28;01mNone\u001b[39;00m:\n\u001b[1;32m   1900\u001b[0m     line\u001b[38;5;241m.\u001b[39mset_clip_path(\u001b[38;5;28mself\u001b[39m\u001b[38;5;241m.\u001b[39mpatch)\n\u001b[0;32m-> 1902\u001b[0m \u001b[38;5;28;43mself\u001b[39;49m\u001b[38;5;241;43m.\u001b[39;49m\u001b[43m_update_line_limits\u001b[49m\u001b[43m(\u001b[49m\u001b[43mline\u001b[49m\u001b[43m)\u001b[49m\n\u001b[1;32m   1903\u001b[0m \u001b[38;5;28;01mif\u001b[39;00m \u001b[38;5;129;01mnot\u001b[39;00m line\u001b[38;5;241m.\u001b[39mget_label():\n\u001b[1;32m   1904\u001b[0m     line\u001b[38;5;241m.\u001b[39mset_label(\u001b[38;5;124m'\u001b[39m\u001b[38;5;124m_line\u001b[39m\u001b[38;5;132;01m%d\u001b[39;00m\u001b[38;5;124m'\u001b[39m \u001b[38;5;241m%\u001b[39m \u001b[38;5;28mlen\u001b[39m(\u001b[38;5;28mself\u001b[39m\u001b[38;5;241m.\u001b[39mlines))\n",
      "File \u001b[0;32m~/Escritorio/ambiente/cnn/lib/python3.8/site-packages/matplotlib/axes/_base.py:1924\u001b[0m, in \u001b[0;36m_AxesBase._update_line_limits\u001b[0;34m(self, line)\u001b[0m\n\u001b[1;32m   1920\u001b[0m \u001b[38;5;28;01mdef\u001b[39;00m \u001b[38;5;21m_update_line_limits\u001b[39m(\u001b[38;5;28mself\u001b[39m, line):\n\u001b[1;32m   1921\u001b[0m     \u001b[38;5;124;03m\"\"\"\u001b[39;00m\n\u001b[1;32m   1922\u001b[0m \u001b[38;5;124;03m    Figures out the data limit of the given line, updating self.dataLim.\u001b[39;00m\n\u001b[1;32m   1923\u001b[0m \u001b[38;5;124;03m    \"\"\"\u001b[39;00m\n\u001b[0;32m-> 1924\u001b[0m     path \u001b[38;5;241m=\u001b[39m \u001b[43mline\u001b[49m\u001b[38;5;241;43m.\u001b[39;49m\u001b[43mget_path\u001b[49m\u001b[43m(\u001b[49m\u001b[43m)\u001b[49m\n\u001b[1;32m   1925\u001b[0m     \u001b[38;5;28;01mif\u001b[39;00m path\u001b[38;5;241m.\u001b[39mvertices\u001b[38;5;241m.\u001b[39msize \u001b[38;5;241m==\u001b[39m \u001b[38;5;241m0\u001b[39m:\n\u001b[1;32m   1926\u001b[0m         \u001b[38;5;28;01mreturn\u001b[39;00m\n",
      "File \u001b[0;32m~/Escritorio/ambiente/cnn/lib/python3.8/site-packages/matplotlib/lines.py:1027\u001b[0m, in \u001b[0;36mLine2D.get_path\u001b[0;34m(self)\u001b[0m\n\u001b[1;32m   1022\u001b[0m \u001b[38;5;124;03m\"\"\"\u001b[39;00m\n\u001b[1;32m   1023\u001b[0m \u001b[38;5;124;03mReturn the :class:`~matplotlib.path.Path` object associated\u001b[39;00m\n\u001b[1;32m   1024\u001b[0m \u001b[38;5;124;03mwith this line.\u001b[39;00m\n\u001b[1;32m   1025\u001b[0m \u001b[38;5;124;03m\"\"\"\u001b[39;00m\n\u001b[1;32m   1026\u001b[0m \u001b[38;5;28;01mif\u001b[39;00m \u001b[38;5;28mself\u001b[39m\u001b[38;5;241m.\u001b[39m_invalidy \u001b[38;5;129;01mor\u001b[39;00m \u001b[38;5;28mself\u001b[39m\u001b[38;5;241m.\u001b[39m_invalidx:\n\u001b[0;32m-> 1027\u001b[0m     \u001b[38;5;28;43mself\u001b[39;49m\u001b[38;5;241;43m.\u001b[39;49m\u001b[43mrecache\u001b[49m\u001b[43m(\u001b[49m\u001b[43m)\u001b[49m\n\u001b[1;32m   1028\u001b[0m \u001b[38;5;28;01mreturn\u001b[39;00m \u001b[38;5;28mself\u001b[39m\u001b[38;5;241m.\u001b[39m_path\n",
      "File \u001b[0;32m~/Escritorio/ambiente/cnn/lib/python3.8/site-packages/matplotlib/lines.py:675\u001b[0m, in \u001b[0;36mLine2D.recache\u001b[0;34m(self, always)\u001b[0m\n\u001b[1;32m    673\u001b[0m \u001b[38;5;28;01mif\u001b[39;00m always \u001b[38;5;129;01mor\u001b[39;00m \u001b[38;5;28mself\u001b[39m\u001b[38;5;241m.\u001b[39m_invalidy:\n\u001b[1;32m    674\u001b[0m     yconv \u001b[38;5;241m=\u001b[39m \u001b[38;5;28mself\u001b[39m\u001b[38;5;241m.\u001b[39mconvert_yunits(\u001b[38;5;28mself\u001b[39m\u001b[38;5;241m.\u001b[39m_yorig)\n\u001b[0;32m--> 675\u001b[0m     y \u001b[38;5;241m=\u001b[39m \u001b[43m_to_unmasked_float_array\u001b[49m\u001b[43m(\u001b[49m\u001b[43myconv\u001b[49m\u001b[43m)\u001b[49m\u001b[38;5;241m.\u001b[39mravel()\n\u001b[1;32m    676\u001b[0m \u001b[38;5;28;01melse\u001b[39;00m:\n\u001b[1;32m    677\u001b[0m     y \u001b[38;5;241m=\u001b[39m \u001b[38;5;28mself\u001b[39m\u001b[38;5;241m.\u001b[39m_y\n",
      "File \u001b[0;32m~/Escritorio/ambiente/cnn/lib/python3.8/site-packages/matplotlib/cbook/__init__.py:1390\u001b[0m, in \u001b[0;36m_to_unmasked_float_array\u001b[0;34m(x)\u001b[0m\n\u001b[1;32m   1388\u001b[0m     \u001b[38;5;28;01mreturn\u001b[39;00m np\u001b[38;5;241m.\u001b[39mma\u001b[38;5;241m.\u001b[39masarray(x, \u001b[38;5;28mfloat\u001b[39m)\u001b[38;5;241m.\u001b[39mfilled(np\u001b[38;5;241m.\u001b[39mnan)\n\u001b[1;32m   1389\u001b[0m \u001b[38;5;28;01melse\u001b[39;00m:\n\u001b[0;32m-> 1390\u001b[0m     \u001b[38;5;28;01mreturn\u001b[39;00m \u001b[43mnp\u001b[49m\u001b[38;5;241;43m.\u001b[39;49m\u001b[43masarray\u001b[49m\u001b[43m(\u001b[49m\u001b[43mx\u001b[49m\u001b[43m,\u001b[49m\u001b[43m \u001b[49m\u001b[38;5;28;43mfloat\u001b[39;49m\u001b[43m)\u001b[49m\n",
      "File \u001b[0;32m~/Escritorio/ambiente/cnn/lib/python3.8/site-packages/torch/_tensor.py:972\u001b[0m, in \u001b[0;36mTensor.__array__\u001b[0;34m(self, dtype)\u001b[0m\n\u001b[1;32m    970\u001b[0m     \u001b[38;5;28;01mreturn\u001b[39;00m \u001b[38;5;28mself\u001b[39m\u001b[38;5;241m.\u001b[39mnumpy()\n\u001b[1;32m    971\u001b[0m \u001b[38;5;28;01melse\u001b[39;00m:\n\u001b[0;32m--> 972\u001b[0m     \u001b[38;5;28;01mreturn\u001b[39;00m \u001b[38;5;28;43mself\u001b[39;49m\u001b[38;5;241;43m.\u001b[39;49m\u001b[43mnumpy\u001b[49m\u001b[43m(\u001b[49m\u001b[43m)\u001b[49m\u001b[38;5;241m.\u001b[39mastype(dtype, copy\u001b[38;5;241m=\u001b[39m\u001b[38;5;28;01mFalse\u001b[39;00m)\n",
      "\u001b[0;31mTypeError\u001b[0m: can't convert cuda:0 device type tensor to numpy. Use Tensor.cpu() to copy the tensor to host memory first."
     ]
    },
    {
     "data": {
      "image/png": "[encoded data removed]",
      "text/plain": [
       "<Figure size 432x288 with 1 Axes>"
      ]
     },
     "metadata": {
      "needs_background": "light"
     },
     "output_type": "display_data"
    }
   ],
   "source": [
    "plt.plot(a)"
   ]
  },
  {
   "cell_type": "code",
   "execution_count": null,
   "id": "9215a011",
   "metadata": {},
   "outputs": [],
   "source": [
    "print(\"Tensor device:\", X.device)\n",
    "print(\"Tensor device:\", W.device)\n",
    "print(\"Tensor device:\", b.device)\n",
    "print(\"Tensor device:\", a.device)"
   ]
  },
  {
   "cell_type": "code",
   "execution_count": 18,
   "id": "e6834e1f",
   "metadata": {},
   "outputs": [],
   "source": [
    "W.retain_grad()\n",
    "W1.retain_grad()\n",
    "b.retain_grad()\n",
    "b1.retain_grad()\n",
    "a.retain_grad()\n"
   ]
  },
  {
   "cell_type": "code",
   "execution_count": 19,
   "id": "03f792e7",
   "metadata": {},
   "outputs": [],
   "source": [
    "Loss=[]  #nn.ModuleList()\n",
    "val =0.0"
   ]
  },
  {
   "cell_type": "code",
   "execution_count": 20,
   "id": "a662104e",
   "metadata": {},
   "outputs": [
    {
     "name": "stdout",
     "output_type": "stream",
     "text": [
      "torch.Size([100, 100, 100])\n"
     ]
    }
   ],
   "source": [
    "print(W1.shape)"
   ]
  },
  {
   "cell_type": "code",
   "execution_count": 21,
   "id": "3d69cd4f",
   "metadata": {},
   "outputs": [
    {
     "name": "stdout",
     "output_type": "stream",
     "text": [
      "tensor(0.0023, device='cuda:0', grad_fn=<SumBackward0>)\n"
     ]
    }
   ],
   "source": [
    "for i in range (550000):\n",
    "    Z= X   +b\n",
    "    h=m(Z)\n",
    "    #Z1 = h @ W1 +b1\n",
    "    #print(W1.shape)\n",
    "    #h2 = m(Z1)\n",
    "    L= h @ a \n",
    "    loss = torch.sum((L-Y[:,:,0])**2)\n",
    "    #loss = torch.abs((L-Y[:,:,0]))\n",
    "    W.grad = None\n",
    "    W1.grad = None\n",
    "    b.grad = None\n",
    "    b1.grad = None\n",
    "    a.grad = None\n",
    "    loss.backward()\n",
    "    val= loss #.detach().numpy()\n",
    "    Loss.append(val.cpu())\n",
    "    #Loss.append(val.detach().numpy())\n",
    "    r=0.0001\n",
    "    \n",
    "    a.data-=r*a.grad\n",
    "    b.data-=r*b.grad\n",
    "    #b1.data-=r*b1.grad\n",
    "    #W.data-=r*W.grad\n",
    "    #W1.data-=r*W1.grad\n",
    "    \n",
    "\n",
    "print(val)\n"
   ]
  },
  {
   "cell_type": "code",
   "execution_count": 22,
   "id": "031f5360",
   "metadata": {},
   "outputs": [
    {
     "data": {
      "image/png": "[encoded data removed]",
      "text/plain": [
       "<Figure size 432x288 with 1 Axes>"
      ]
     },
     "execution_count": 22,
     "metadata": {},
     "output_type": "execute_result"
    },
    {
     "data": {
      "image/png": "[encoded data removed]",
      "text/plain": [
       "<Figure size 432x288 with 1 Axes>"
      ]
     },
     "metadata": {
      "needs_background": "light"
     },
     "output_type": "display_data"
    }
   ],
   "source": [
    "losses= [ loss.detach().numpy() for loss in Loss]\n",
    "fig = plt.figure()\n",
    "plt.plot(losses, color='blue')\n",
    "plt.legend(['Train Loss', 'Test Loss'], loc='upper right')\n",
    "plt.xlabel('number of training examples seen')\n",
    "fig"
   ]
  },
  {
   "cell_type": "code",
   "execution_count": 23,
   "id": "f34556e9",
   "metadata": {},
   "outputs": [
    {
     "data": {
      "text/plain": [
       "[<matplotlib.lines.Line2D at 0x7fdfaf4b23a0>]"
      ]
     },
     "execution_count": 23,
     "metadata": {},
     "output_type": "execute_result"
    },
    {
     "data": {
      "image/png": "[encoded data removed]",
      "text/plain": [
       "<Figure size 432x288 with 1 Axes>"
      ]
     },
     "metadata": {
      "needs_background": "light"
     },
     "output_type": "display_data"
    }
   ],
   "source": [
    "j = b.cpu()\n",
    "asorted, indices = torch.sort(j)\n",
    "plt.plot(asorted.data)\n"
   ]
  },
  {
   "cell_type": "code",
   "execution_count": 24,
   "id": "dabfa876",
   "metadata": {},
   "outputs": [
    {
     "data": {
      "text/plain": [
       "[<matplotlib.lines.Line2D at 0x7fdf94bd52b0>]"
      ]
     },
     "execution_count": 24,
     "metadata": {},
     "output_type": "execute_result"
    },
    {
     "data": {
      "image/png": "[encoded data removed]",
      "text/plain": [
       "<Figure size 432x288 with 1 Axes>"
      ]
     },
     "metadata": {
      "needs_background": "light"
     },
     "output_type": "display_data"
    }
   ],
   "source": [
    "j = a.cpu()\n",
    "asorted, indices = torch.sort(j)\n",
    "plt.plot(asorted.data)"
   ]
  },
  {
   "cell_type": "code",
   "execution_count": 25,
   "id": "351c91e1",
   "metadata": {},
   "outputs": [
    {
     "data": {
      "text/plain": [
       "[<matplotlib.lines.Line2D at 0x7fdf94b94ac0>]"
      ]
     },
     "execution_count": 25,
     "metadata": {},
     "output_type": "execute_result"
    },
    {
     "data": {
      "image/png": "[encoded data removed]",
      "text/plain": [
       "<Figure size 432x288 with 1 Axes>"
      ]
     },
     "metadata": {
      "needs_background": "light"
     },
     "output_type": "display_data"
    }
   ],
   "source": [
    "j = b.cpu()\n",
    "asorted, indices = torch.sort(j)\n",
    "plt.plot(asorted.data)"
   ]
  },
  {
   "cell_type": "code",
   "execution_count": 26,
   "id": "2f9ecc46",
   "metadata": {},
   "outputs": [
    {
     "data": {
      "text/plain": [
       "tensor([25, 61, 52, 69, 35,  6, 91, 44, 20, 98, 74, 21, 19,  9, 67, 79, 95, 42,\n",
       "        15,  4, 22, 54,  7, 39, 87, 37, 66, 93, 17, 16, 46, 94, 41, 10, 36, 68,\n",
       "        26, 76, 59, 99, 50,  1, 90,  0, 33, 13, 11,  3, 34,  8, 12, 29, 48, 58,\n",
       "        38, 62, 96, 57, 63, 60, 65, 18, 75, 82, 64, 72, 43, 77, 71, 30, 32, 70,\n",
       "        14, 49, 85, 53, 84, 24, 51, 86, 47,  5, 23, 55, 31,  2, 80, 28, 92, 45,\n",
       "        56, 83, 27, 73, 88, 40, 97, 81, 89, 78])"
      ]
     },
     "execution_count": 26,
     "metadata": {},
     "output_type": "execute_result"
    }
   ],
   "source": [
    "indices"
   ]
  },
  {
   "cell_type": "code",
   "execution_count": 27,
   "id": "11b08da0",
   "metadata": {},
   "outputs": [
    {
     "data": {
      "text/plain": [
       "[<matplotlib.lines.Line2D at 0x7fdf94b679a0>]"
      ]
     },
     "execution_count": 27,
     "metadata": {},
     "output_type": "execute_result"
    },
    {
     "data": {
      "image/png": "[encoded data removed]",
      "text/plain": [
       "<Figure size 432x288 with 1 Axes>"
      ]
     },
     "metadata": {
      "needs_background": "light"
     },
     "output_type": "display_data"
    }
   ],
   "source": [
    "j = a[indices].cpu()\n",
    "plt.plot(j.detach().numpy())"
   ]
  },
  {
   "cell_type": "code",
   "execution_count": 28,
   "id": "d37e58c5",
   "metadata": {},
   "outputs": [
    {
     "data": {
      "text/plain": [
       "<matplotlib.axes._subplots.AxesSubplot at 0x7fdf94b18880>"
      ]
     },
     "execution_count": 28,
     "metadata": {},
     "output_type": "execute_result"
    },
    {
     "data": {
      "image/png": "[encoded data removed]",
      "text/plain": [
       "<Figure size 432x288 with 1 Axes>"
      ]
     },
     "metadata": {
      "needs_background": "light"
     },
     "output_type": "display_data"
    }
   ],
   "source": [
    "\n",
    "\n",
    "#sns.set_style('darkgrid')\n",
    "sns.distplot(j.detach().numpy())"
   ]
  },
  {
   "cell_type": "code",
   "execution_count": 29,
   "id": "710ad645",
   "metadata": {},
   "outputs": [
    {
     "data": {
      "text/plain": [
       "[<matplotlib.lines.Line2D at 0x7fdf92a46580>]"
      ]
     },
     "execution_count": 29,
     "metadata": {},
     "output_type": "execute_result"
    },
    {
     "data": {
      "image/png": "[encoded data removed]",
      "text/plain": [
       "<Figure size 432x288 with 1 Axes>"
      ]
     },
     "metadata": {
      "needs_background": "light"
     },
     "output_type": "display_data"
    }
   ],
   "source": [
    "j = b.cpu()\n",
    "plt.plot(j.detach().numpy())"
   ]
  },
  {
   "cell_type": "code",
   "execution_count": 30,
   "id": "239d556f",
   "metadata": {},
   "outputs": [
    {
     "data": {
      "text/plain": [
       "<matplotlib.axes._subplots.AxesSubplot at 0x7fdf92a71a00>"
      ]
     },
     "execution_count": 30,
     "metadata": {},
     "output_type": "execute_result"
    },
    {
     "data": {
      "image/png": "[encoded data removed]",
      "text/plain": [
       "<Figure size 432x288 with 1 Axes>"
      ]
     },
     "metadata": {
      "needs_background": "light"
     },
     "output_type": "display_data"
    }
   ],
   "source": [
    "sns.distplot(j.detach().numpy())"
   ]
  },
  {
   "cell_type": "code",
   "execution_count": 31,
   "id": "ca3710aa",
   "metadata": {},
   "outputs": [
    {
     "data": {
      "text/plain": [
       "tensor([[ 0.2848,  0.0445, -1.4078, -1.7125, -1.1542,  1.3561,  0.1771,  3.0362,\n",
       "         -0.9293,  0.5697,  0.3994, -0.6076, -0.2957, -1.0103,  1.0140,  0.6007,\n",
       "          0.8172,  0.0358, -0.0587,  0.1110,  0.6352, -1.2886, -1.2917,  0.2378,\n",
       "         -2.2904,  2.0620, -0.3988,  0.2300, -0.7375, -1.5803,  1.9043,  0.8342,\n",
       "         -0.5394, -0.2863,  0.7552, -1.4401, -0.7344, -0.5900, -0.0160,  1.1909,\n",
       "          1.1543, -2.2660, -1.1205,  0.3592,  0.8846,  0.9100,  0.9892,  1.3655,\n",
       "         -0.2634,  1.2852,  0.6415,  0.0957, -2.8754,  0.0762, -0.5328, -0.6784,\n",
       "         -1.0010, -1.7630, -0.0952, -1.0089,  0.1307,  0.3267,  0.4599,  0.4167,\n",
       "         -1.2189, -0.3452,  1.1094,  0.9022,  0.9829,  0.3178, -0.6924,  0.9345,\n",
       "          0.5619,  0.1010,  0.2795, -2.0891,  0.6488, -0.3395, -0.8081, -1.1036,\n",
       "          0.7093,  0.8432,  0.2456,  1.0418,  0.5844,  0.9077,  0.7051,  0.1416,\n",
       "         -0.6238, -0.9880,  0.5684, -0.7313, -0.4186,  1.2076, -2.7492,  0.3762,\n",
       "         -2.3171,  0.0473,  0.2573,  0.0385]], device='cuda:0',\n",
       "       grad_fn=<ToCopyBackward0>)"
      ]
     },
     "execution_count": 31,
     "metadata": {},
     "output_type": "execute_result"
    }
   ],
   "source": [
    "W"
   ]
  },
  {
   "cell_type": "code",
   "execution_count": 32,
   "id": "76d7e9be",
   "metadata": {},
   "outputs": [
    {
     "ename": "TypeError",
     "evalue": "can't convert cuda:0 device type tensor to numpy. Use Tensor.cpu() to copy the tensor to host memory first.",
     "output_type": "error",
     "traceback": [
      "\u001b[0;31m---------------------------------------------------------------------------\u001b[0m",
      "\u001b[0;31mTypeError\u001b[0m                                 Traceback (most recent call last)",
      "Input \u001b[0;32mIn [32]\u001b[0m, in \u001b[0;36m<module>\u001b[0;34m\u001b[0m\n\u001b[0;32m----> 1\u001b[0m plt\u001b[38;5;241m.\u001b[39mplot(\u001b[43ma\u001b[49m\u001b[38;5;241;43m.\u001b[39;49m\u001b[43mdetach\u001b[49m\u001b[43m(\u001b[49m\u001b[43m)\u001b[49m\u001b[38;5;241;43m.\u001b[39;49m\u001b[43mnumpy\u001b[49m\u001b[43m(\u001b[49m\u001b[43m)\u001b[49m)\n",
      "\u001b[0;31mTypeError\u001b[0m: can't convert cuda:0 device type tensor to numpy. Use Tensor.cpu() to copy the tensor to host memory first."
     ]
    }
   ],
   "source": [
    "plt.plot(a.detach().numpy())"
   ]
  },
  {
   "cell_type": "code",
   "execution_count": 33,
   "id": "7842a3ef",
   "metadata": {},
   "outputs": [
    {
     "ename": "TypeError",
     "evalue": "can't convert cuda:0 device type tensor to numpy. Use Tensor.cpu() to copy the tensor to host memory first.",
     "output_type": "error",
     "traceback": [
      "\u001b[0;31m---------------------------------------------------------------------------\u001b[0m",
      "\u001b[0;31mTypeError\u001b[0m                                 Traceback (most recent call last)",
      "Input \u001b[0;32mIn [33]\u001b[0m, in \u001b[0;36m<module>\u001b[0;34m\u001b[0m\n\u001b[0;32m----> 1\u001b[0m plt\u001b[38;5;241m.\u001b[39mimshow(\u001b[43mW\u001b[49m\u001b[38;5;241;43m.\u001b[39;49m\u001b[43mdetach\u001b[49m\u001b[43m(\u001b[49m\u001b[43m)\u001b[49m\u001b[38;5;241;43m.\u001b[39;49m\u001b[43mnumpy\u001b[49m\u001b[43m(\u001b[49m\u001b[43m)\u001b[49m, interpolation\u001b[38;5;241m=\u001b[39m\u001b[38;5;124m'\u001b[39m\u001b[38;5;124mnone\u001b[39m\u001b[38;5;124m'\u001b[39m)\n\u001b[1;32m      2\u001b[0m plt\u001b[38;5;241m.\u001b[39mshow()\n",
      "\u001b[0;31mTypeError\u001b[0m: can't convert cuda:0 device type tensor to numpy. Use Tensor.cpu() to copy the tensor to host memory first."
     ]
    }
   ],
   "source": [
    "plt.imshow(W.detach().numpy(), interpolation='none')\n",
    "plt.show()"
   ]
  },
  {
   "cell_type": "code",
   "execution_count": 34,
   "id": "0c9efedc",
   "metadata": {},
   "outputs": [],
   "source": [
    "Z=X  +b\n",
    "h=m(Z)\n",
    "L= h @ a \n",
    "L = L.cpu()"
   ]
  },
  {
   "cell_type": "code",
   "execution_count": 35,
   "id": "66280a60",
   "metadata": {},
   "outputs": [
    {
     "data": {
      "text/plain": [
       "tensor([-5.4049e-01, -5.7105e-01, -6.1628e-02, -4.3736e-01, -1.0447e+00,\n",
       "        -1.0752e-01, -1.3974e+00, -1.0022e+00, -4.1704e-01, -1.1633e+00,\n",
       "        -6.7394e-01, -4.3928e-01, -3.9660e-01, -4.4805e-01, -1.8675e-01,\n",
       "        -1.0450e+00, -8.5918e-01, -9.0974e-01, -3.1455e-01, -1.1697e+00,\n",
       "        -1.2870e+00, -1.1986e+00, -1.0111e+00, -1.0067e-01, -1.3998e-01,\n",
       "        -2.2253e+00, -6.3230e-01,  4.0739e-02,  1.4653e-07, -3.9450e-01,\n",
       "        -2.0502e-01, -8.1094e-02, -2.0458e-01, -4.5824e-01, -4.2656e-01,\n",
       "        -1.5578e+00, -6.5510e-01, -9.9003e-01, -3.6537e-01, -9.9227e-01,\n",
       "         1.2934e-01, -6.8950e-01, -1.0472e+00, -2.8992e-01, -1.3535e+00,\n",
       "         4.6075e-07, -8.5849e-01, -1.1738e-01, -3.9357e-01, -1.8222e-01,\n",
       "        -5.7381e-01, -1.3719e-01, -1.9051e+00, -1.6138e-01, -1.0034e+00,\n",
       "        -9.3251e-02,  7.4886e-07, -3.3615e-01, -3.7000e-01, -6.1158e-01,\n",
       "        -3.3320e-01, -1.9447e+00, -3.6464e-01, -3.3584e-01, -3.0051e-01,\n",
       "        -3.2330e-01, -9.9002e-01, -1.1361e+00, -6.4370e-01, -1.5603e+00,\n",
       "        -1.9855e-01, -2.2361e-01, -3.0007e-01,  4.6675e-02, -1.2198e+00,\n",
       "        -3.0275e-01, -6.1297e-01, -2.8948e-01,  2.4090e-01, -1.1175e+00,\n",
       "         1.1021e-08,  1.6088e-01, -3.0270e-01,  2.2190e-02, -1.4130e-01,\n",
       "        -1.6496e-01, -1.2885e-01, -9.9130e-01,  6.8813e-02,  1.8235e-01,\n",
       "        -5.5000e-01, -1.3847e+00,  3.8781e-07, -9.9001e-01, -8.1191e-01,\n",
       "        -1.0788e+00, -3.4556e-01,  1.3973e-01, -1.2849e+00, -5.9029e-01],\n",
       "       device='cuda:0', grad_fn=<ToCopyBackward0>)"
      ]
     },
     "execution_count": 35,
     "metadata": {},
     "output_type": "execute_result"
    }
   ],
   "source": [
    "b"
   ]
  },
  {
   "cell_type": "code",
   "execution_count": 36,
   "id": "5e6dfd2f",
   "metadata": {},
   "outputs": [
    {
     "data": {
      "text/plain": [
       "[<matplotlib.lines.Line2D at 0x7fdf9295f2b0>]"
      ]
     },
     "execution_count": 36,
     "metadata": {},
     "output_type": "execute_result"
    },
    {
     "data": {
      "image/png": "[encoded data removed]",
      "text/plain": [
       "<Figure size 432x288 with 1 Axes>"
      ]
     },
     "metadata": {
      "needs_background": "light"
     },
     "output_type": "display_data"
    }
   ],
   "source": [
    "plt.plot(L.detach().numpy())"
   ]
  },
  {
   "cell_type": "code",
   "execution_count": null,
   "id": "5970aebe",
   "metadata": {},
   "outputs": [],
   "source": [
    "asorted, indices = torch.sort(L)\n",
    "plt.plot(asorted[0].detach().numpy())"
   ]
  },
  {
   "cell_type": "code",
   "execution_count": null,
   "id": "0769e903",
   "metadata": {},
   "outputs": [],
   "source": [
    "plt.plot(L[0].detach().numpy())"
   ]
  },
  {
   "cell_type": "code",
   "execution_count": null,
   "id": "51c49377",
   "metadata": {},
   "outputs": [],
   "source": [
    "Loss"
   ]
  },
  {
   "cell_type": "code",
   "execution_count": null,
   "id": "c48bf29a",
   "metadata": {},
   "outputs": [],
   "source": [
    "plt.plot(h[0].detach().numpy())"
   ]
  },
  {
   "cell_type": "code",
   "execution_count": null,
   "id": "944b3e9a",
   "metadata": {},
   "outputs": [],
   "source": [
    "torch.manual_seed(298630698)"
   ]
  },
  {
   "cell_type": "code",
   "execution_count": null,
   "id": "274fd6b8",
   "metadata": {},
   "outputs": [],
   "source": [
    "N=4\n",
    "X = torch.zeros((N,1,1),requires_grad=False,dtype=float)\n",
    "Y = torch.zeros((N,1,1),requires_grad=False,dtype=float)\n",
    "W = torch.randn((1,N),requires_grad=True,dtype=float)\n",
    "W1 = torch.randn((N,1,N),requires_grad=True,dtype=float)\n",
    "b = torch.randn((N,),requires_grad=True,dtype=float)\n",
    "b1 = torch.randn((N,),requires_grad=True,dtype=float)\n",
    "a = torch.randn((N,),requires_grad=True,dtype=float)"
   ]
  },
  {
   "cell_type": "code",
   "execution_count": null,
   "id": "cd1357b5",
   "metadata": {},
   "outputs": [],
   "source": [
    "X.shape"
   ]
  },
  {
   "cell_type": "code",
   "execution_count": null,
   "id": "d359e180",
   "metadata": {},
   "outputs": [],
   "source": [
    "X[0,0,0]=1\n",
    "X[1,0,0]=2\n",
    "X[2,0,0]=3\n",
    "X[3,0,0]=4\n",
    "\n",
    "Y[0,0,0]=50\n",
    "Y[1,0,0]=20\n",
    "Y[2,0,0]=1\n",
    "Y[3,0,0]=-1\n",
    "\n"
   ]
  },
  {
   "cell_type": "code",
   "execution_count": null,
   "id": "3244f580",
   "metadata": {},
   "outputs": [],
   "source": [
    "Y"
   ]
  },
  {
   "cell_type": "code",
   "execution_count": null,
   "id": "6984338b",
   "metadata": {},
   "outputs": [],
   "source": [
    "for i in range (10000):\n",
    "    Z=X @ W +b\n",
    "    h=m(Z)\n",
    "    L= h @ a \n",
    "    #L= h @ W1 +b1\n",
    "    #h1 = m \n",
    "    loss = torch.sum((L-Y[:,:,0])**2)\n",
    "    W.grad = None\n",
    "    b.grad = None\n",
    "    a.grad = None\n",
    "    loss.backward()\n",
    "    val= loss #.detach().numpy()\n",
    "    Loss.append(val.detach().numpy())\n",
    "    r=0.0001\n",
    "    b.data-=r*b.grad\n",
    "    W.data-=r*W.grad\n",
    "    a.data-=r*a.grad\n",
    "\n",
    "print(val)"
   ]
  },
  {
   "cell_type": "code",
   "execution_count": null,
   "id": "14871906",
   "metadata": {},
   "outputs": [],
   "source": [
    "m(X @ W +b)@a\n"
   ]
  },
  {
   "cell_type": "code",
   "execution_count": null,
   "id": "cbdd1f07",
   "metadata": {},
   "outputs": [],
   "source": [
    "m(X @ W +b)"
   ]
  },
  {
   "cell_type": "code",
   "execution_count": null,
   "id": "c6095df5",
   "metadata": {},
   "outputs": [],
   "source": [
    "m(X @ W +b)@a"
   ]
  },
  {
   "cell_type": "code",
   "execution_count": null,
   "id": "f71da2ed",
   "metadata": {},
   "outputs": [],
   "source": [
    "b"
   ]
  },
  {
   "cell_type": "code",
   "execution_count": null,
   "id": "6729d4bf",
   "metadata": {},
   "outputs": [],
   "source": [
    "a"
   ]
  },
  {
   "cell_type": "code",
   "execution_count": null,
   "id": "69c249f3",
   "metadata": {},
   "outputs": [],
   "source": [
    "X\n"
   ]
  },
  {
   "cell_type": "code",
   "execution_count": null,
   "id": "8bddd74d",
   "metadata": {},
   "outputs": [],
   "source": [
    "W.shape"
   ]
  },
  {
   "cell_type": "code",
   "execution_count": null,
   "id": "20ee0676",
   "metadata": {},
   "outputs": [],
   "source": [
    "a"
   ]
  },
  {
   "cell_type": "code",
   "execution_count": null,
   "id": "3aca8fbe",
   "metadata": {},
   "outputs": [],
   "source": [
    "Z"
   ]
  },
  {
   "cell_type": "code",
   "execution_count": null,
   "id": "c0ce9c59",
   "metadata": {},
   "outputs": [],
   "source": [
    "b"
   ]
  },
  {
   "cell_type": "code",
   "execution_count": null,
   "id": "e076d3f3",
   "metadata": {},
   "outputs": [],
   "source": [
    "Z= X @ W +b"
   ]
  },
  {
   "cell_type": "code",
   "execution_count": null,
   "id": "4ad4e906",
   "metadata": {},
   "outputs": [],
   "source": [
    "Z"
   ]
  },
  {
   "cell_type": "code",
   "execution_count": null,
   "id": "ca4126d8",
   "metadata": {},
   "outputs": [],
   "source": [
    "h=m(Z)\n",
    "h"
   ]
  },
  {
   "cell_type": "code",
   "execution_count": null,
   "id": "2a80a352",
   "metadata": {},
   "outputs": [],
   "source": [
    "a"
   ]
  },
  {
   "cell_type": "code",
   "execution_count": null,
   "id": "0a9b8d7d",
   "metadata": {},
   "outputs": [],
   "source": [
    "L=h @a"
   ]
  },
  {
   "cell_type": "code",
   "execution_count": null,
   "id": "992b2cee",
   "metadata": {},
   "outputs": [],
   "source": [
    "torch.sum((L-Y[:,:,0])**2)"
   ]
  },
  {
   "cell_type": "code",
   "execution_count": null,
   "id": "80cd725b",
   "metadata": {},
   "outputs": [],
   "source": [
    "L.shape"
   ]
  },
  {
   "cell_type": "code",
   "execution_count": null,
   "id": "1ef99c3e",
   "metadata": {},
   "outputs": [],
   "source": [
    "X[:,0,0]"
   ]
  },
  {
   "cell_type": "code",
   "execution_count": null,
   "id": "1055c1f8",
   "metadata": {},
   "outputs": [],
   "source": [
    "L"
   ]
  },
  {
   "cell_type": "code",
   "execution_count": null,
   "id": "ea69761b",
   "metadata": {},
   "outputs": [],
   "source": [
    "G.shape"
   ]
  },
  {
   "cell_type": "code",
   "execution_count": null,
   "id": "3be1f211",
   "metadata": {},
   "outputs": [],
   "source": [
    "import numpy as np\n",
    "import scipy\n",
    "from scipy import linalg\n",
    "\n",
    "h = np.arange(1, 6)\n",
    "\n",
    "padding = np.zeros(h.shape[0] - 1, h.dtype)\n",
    "first_col = np.r_[h, padding]\n",
    "first_row = np.r_[h[0], padding]\n",
    "\n",
    "H = linalg.toeplitz(first_col, first_row)"
   ]
  },
  {
   "cell_type": "code",
   "execution_count": null,
   "id": "7c9e9ebf",
   "metadata": {},
   "outputs": [],
   "source": [
    "x = scipy.linalg.toeplitz([1, 2, 3, 4])\n",
    "x = np.asfortranarray(x)"
   ]
  },
  {
   "cell_type": "code",
   "execution_count": null,
   "id": "39756958",
   "metadata": {},
   "outputs": [],
   "source": [
    "x"
   ]
  },
  {
   "cell_type": "code",
   "execution_count": null,
   "id": "8fafd95a",
   "metadata": {},
   "outputs": [],
   "source": [
    "import numpy as np\n",
    "from scipy.linalg import toeplitz\n",
    "\n",
    "W1=-toeplitz(np.r_[2, -1, np.zeros(N-2)])"
   ]
  },
  {
   "cell_type": "code",
   "execution_count": null,
   "id": "6a012c8d",
   "metadata": {},
   "outputs": [],
   "source": [
    "W1"
   ]
  },
  {
   "cell_type": "code",
   "execution_count": null,
   "id": "95a8891f",
   "metadata": {},
   "outputs": [],
   "source": [
    "t = torch.from_numpy(W1)"
   ]
  },
  {
   "cell_type": "code",
   "execution_count": null,
   "id": "91c40f5c",
   "metadata": {},
   "outputs": [],
   "source": [
    "t.shape"
   ]
  },
  {
   "cell_type": "code",
   "execution_count": null,
   "id": "6db4cb00",
   "metadata": {},
   "outputs": [],
   "source": [
    "X.shape"
   ]
  },
  {
   "cell_type": "code",
   "execution_count": null,
   "id": "3ce95c16",
   "metadata": {},
   "outputs": [],
   "source": [
    "Z1= t @ X[:,:,0].cpu()"
   ]
  },
  {
   "cell_type": "code",
   "execution_count": null,
   "id": "9f76ed58",
   "metadata": {},
   "outputs": [],
   "source": [
    "plt.plot(Z1.detach().numpy())"
   ]
  },
  {
   "cell_type": "code",
   "execution_count": null,
   "id": "0bc99cf8",
   "metadata": {},
   "outputs": [],
   "source": [
    "plt.plot(X[:,:,0].detach().numpy())"
   ]
  },
  {
   "cell_type": "code",
   "execution_count": null,
   "id": "42daabe0",
   "metadata": {},
   "outputs": [],
   "source": [
    "from numba import cuda\n",
    "cuda.select_device(0)\n",
    "cuda.close()"
   ]
  },
  {
   "cell_type": "code",
   "execution_count": null,
   "id": "93329cd5",
   "metadata": {},
   "outputs": [],
   "source": []
  }
 ],
 "metadata": {
  "kernelspec": {
   "display_name": "Python 3 (ipykernel)",
   "language": "python",
   "name": "python3"
  },
  "language_info": {
   "codemirror_mode": {
    "name": "ipython",
    "version": 3
   },
   "file_extension": ".py",
   "mimetype": "text/x-python",
   "name": "python",
   "nbconvert_exporter": "python",
   "pygments_lexer": "ipython3",
   "version": "3.8.10"
  }
 },
 "nbformat": 4,
 "nbformat_minor": 5
}
